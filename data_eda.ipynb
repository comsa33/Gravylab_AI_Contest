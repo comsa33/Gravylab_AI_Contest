{
 "cells": [
  {
   "cell_type": "code",
   "execution_count": 1,
   "id": "4cac6b24-ff61-4db0-99d2-607695ab8ab8",
   "metadata": {
    "execution": {
     "iopub.execute_input": "2022-06-07T03:53:40.776985Z",
     "iopub.status.busy": "2022-06-07T03:53:40.776985Z",
     "iopub.status.idle": "2022-06-07T03:53:41.188984Z",
     "shell.execute_reply": "2022-06-07T03:53:41.188984Z",
     "shell.execute_reply.started": "2022-06-07T03:53:40.776985Z"
    },
    "tags": []
   },
   "outputs": [],
   "source": [
    "import pandas as pd\n",
    "import numpy as np\n",
    "\n",
    "data_path = './data/'"
   ]
  },
  {
   "cell_type": "code",
   "execution_count": 2,
   "id": "b9051837-c5b0-47e9-bcf8-0e184bcb0080",
   "metadata": {
    "execution": {
     "iopub.execute_input": "2022-06-07T03:53:41.190986Z",
     "iopub.status.busy": "2022-06-07T03:53:41.189984Z",
     "iopub.status.idle": "2022-06-07T03:53:41.728984Z",
     "shell.execute_reply": "2022-06-07T03:53:41.728984Z",
     "shell.execute_reply.started": "2022-06-07T03:53:41.190986Z"
    }
   },
   "outputs": [],
   "source": [
    "train_df = pd.read_json(data_path+'train.json')\n",
    "test_df = pd.read_json(data_path+'test.json')"
   ]
  },
  {
   "cell_type": "code",
   "execution_count": 6,
   "id": "901f89ff-080b-4593-a30e-144fd2ef5764",
   "metadata": {
    "execution": {
     "iopub.execute_input": "2022-06-07T03:53:43.982500Z",
     "iopub.status.busy": "2022-06-07T03:53:43.981499Z",
     "iopub.status.idle": "2022-06-07T03:53:43.994504Z",
     "shell.execute_reply": "2022-06-07T03:53:43.994504Z",
     "shell.execute_reply.started": "2022-06-07T03:53:43.982500Z"
    }
   },
   "outputs": [
    {
     "name": "stdout",
     "output_type": "stream",
     "text": [
      "<class 'pandas.core.frame.DataFrame'>\n",
      "RangeIndex: 3506 entries, 0 to 3505\n",
      "Data columns (total 2 columns):\n",
      " #   Column   Non-Null Count  Dtype \n",
      "---  ------   --------------  ----- \n",
      " 0   version  3506 non-null   object\n",
      " 1   data     3506 non-null   object\n",
      "dtypes: object(2)\n",
      "memory usage: 54.9+ KB\n"
     ]
    }
   ],
   "source": [
    "train_df.info()"
   ]
  },
  {
   "cell_type": "code",
   "execution_count": 8,
   "id": "7f2139ec-205d-44b6-8b1b-31acb98cd6cd",
   "metadata": {
    "execution": {
     "iopub.execute_input": "2022-06-07T03:53:44.086500Z",
     "iopub.status.busy": "2022-06-07T03:53:44.085498Z",
     "iopub.status.idle": "2022-06-07T03:53:45.765498Z",
     "shell.execute_reply": "2022-06-07T03:53:45.765498Z",
     "shell.execute_reply.started": "2022-06-07T03:53:44.086500Z"
    },
    "tags": []
   },
   "outputs": [],
   "source": []
  },
  {
   "cell_type": "code",
   "execution_count": 27,
   "id": "878f5bb7-b246-4504-a164-899032b6e037",
   "metadata": {
    "execution": {
     "iopub.execute_input": "2022-06-07T04:01:21.180416Z",
     "iopub.status.busy": "2022-06-07T04:01:21.180416Z",
     "iopub.status.idle": "2022-06-07T04:01:21.198413Z",
     "shell.execute_reply": "2022-06-07T04:01:21.198413Z",
     "shell.execute_reply.started": "2022-06-07T04:01:21.180416Z"
    },
    "tags": []
   },
   "outputs": [],
   "source": [
    "def get_RDB(df, mode='train'):\n",
    "    content_lv = df['data'].apply(lambda x: pd.DataFrame(x))\n",
    "    df_ = pd.DataFrame()\n",
    "    for row  in content_lv:\n",
    "        df_ = pd.concat((df_, row), axis=0)\n",
    "    df_ = df_.reset_index(drop=True)\n",
    "\n",
    "    def get_answer_text(x):\n",
    "        if len(x) > 0:\n",
    "            return x[0]['text']\n",
    "        else:\n",
    "            return ''\n",
    "\n",
    "    def get_answer_start(x):\n",
    "        if len(x) > 0:\n",
    "            return x[0]['answer_start']\n",
    "        else:\n",
    "            return np.nan\n",
    "\n",
    "    df_['paragraph_id'] = df_['paragraphs'].apply(lambda x: x['paragraph_id'])\n",
    "    df_['context'] = df_['paragraphs'].apply(lambda x: x['context'])\n",
    "    df_['question_id'] = df_['paragraphs'].apply(lambda x: x['qas'][0]['question_id'])\n",
    "    df_['question'] = df_['paragraphs'].apply(lambda x: x['qas'][0]['question'])\n",
    "    if mode == 'train':\n",
    "        df_['answers'] = df_['paragraphs'].apply(lambda x: x['qas'][0]['answers'])\n",
    "        df_['is_impossible'] = df_['paragraphs'].apply(lambda x: x['qas'][0]['is_impossible'])\n",
    "        df_['answer_text'] = df_['answers'].apply(get_answer_text)\n",
    "        df_['answer_start'] = df_['answers'].apply(get_answer_start)\n",
    "        df_.drop(['paragraphs', 'answers'], axis=1, inplace=True)\n",
    "    else:\n",
    "        df_.drop(['paragraphs'], axis=1, inplace=True)\n",
    "    return df_"
   ]
  },
  {
   "cell_type": "code",
   "execution_count": 28,
   "id": "fc34b42a-9afe-4a7b-b54a-222cd9791b89",
   "metadata": {
    "execution": {
     "iopub.execute_input": "2022-06-07T04:01:21.765099Z",
     "iopub.status.busy": "2022-06-07T04:01:21.765099Z",
     "iopub.status.idle": "2022-06-07T04:01:23.692609Z",
     "shell.execute_reply": "2022-06-07T04:01:23.692609Z",
     "shell.execute_reply.started": "2022-06-07T04:01:21.765099Z"
    },
    "tags": []
   },
   "outputs": [],
   "source": [
    "train = get_RDB(train_df)\n",
    "test = get_RDB(test_df, mode='test')"
   ]
  },
  {
   "cell_type": "code",
   "execution_count": 13,
   "id": "da49f460-98bb-4b29-8699-8fe222e93174",
   "metadata": {
    "execution": {
     "iopub.execute_input": "2022-06-07T03:53:45.947499Z",
     "iopub.status.busy": "2022-06-07T03:53:45.947499Z",
     "iopub.status.idle": "2022-06-07T03:53:45.960498Z",
     "shell.execute_reply": "2022-06-07T03:53:45.960498Z",
     "shell.execute_reply.started": "2022-06-07T03:53:45.947499Z"
    },
    "tags": []
   },
   "outputs": [
    {
     "data": {
      "text/html": [
       "<div>\n",
       "<style scoped>\n",
       "    .dataframe tbody tr th:only-of-type {\n",
       "        vertical-align: middle;\n",
       "    }\n",
       "\n",
       "    .dataframe tbody tr th {\n",
       "        vertical-align: top;\n",
       "    }\n",
       "\n",
       "    .dataframe thead th {\n",
       "        text-align: right;\n",
       "    }\n",
       "</style>\n",
       "<table border=\"1\" class=\"dataframe\">\n",
       "  <thead>\n",
       "    <tr style=\"text-align: right;\">\n",
       "      <th></th>\n",
       "      <th>content_id</th>\n",
       "      <th>title</th>\n",
       "      <th>paragraph_id</th>\n",
       "      <th>context</th>\n",
       "      <th>question_id</th>\n",
       "      <th>question</th>\n",
       "      <th>is_impossible</th>\n",
       "      <th>answer_text</th>\n",
       "      <th>answer_start</th>\n",
       "    </tr>\n",
       "  </thead>\n",
       "  <tbody>\n",
       "    <tr>\n",
       "      <th>0</th>\n",
       "      <td>CNTS_4740509086</td>\n",
       "      <td>국가 기술경쟁력 평가의 방법론과 응용</td>\n",
       "      <td>PARS_RrlDreD2hE</td>\n",
       "      <td>이 글에서는 제안한 기술경쟁력 평가 방법의 특징은 두 가지로 요약된다. 첫째, 현재...</td>\n",
       "      <td>QUES_CHGHl0CHHK</td>\n",
       "      <td>경쟁 상대국을 연구하고 경쟁 상대국을 앞설 수 있는 방법을 연구하기 위해서 더욱 활...</td>\n",
       "      <td>False</td>\n",
       "      <td>기술경쟁력</td>\n",
       "      <td>603.0</td>\n",
       "    </tr>\n",
       "    <tr>\n",
       "      <th>1</th>\n",
       "      <td>CNTS_4740509086</td>\n",
       "      <td>국가 기술경쟁력 평가의 방법론과 응용</td>\n",
       "      <td>PARS_s5sSaKdCH3</td>\n",
       "      <td>현위치와 관련된 평가부문은 IMD 평가에서나 종합과학기술력의 평가에서 도 포함된 부...</td>\n",
       "      <td>QUES_ncJEA1ANCe</td>\n",
       "      <td>IMD평가에 포함되었던 기술관리부분의 한국의 순위는 평균 몇 위야</td>\n",
       "      <td>False</td>\n",
       "      <td>평균 32위</td>\n",
       "      <td>420.0</td>\n",
       "    </tr>\n",
       "    <tr>\n",
       "      <th>2</th>\n",
       "      <td>CNTS_4740509086</td>\n",
       "      <td>국가 기술경쟁력 평가의 방법론과 응용</td>\n",
       "      <td>PARS_erOlnfgWx2</td>\n",
       "      <td>IMD는 스위스의 비영리 민간기구로 국가경쟁력의 순위를 1996년이래 연례적으로 발...</td>\n",
       "      <td>QUES_WwhEDEQ4JT</td>\n",
       "      <td>국가경쟁력의 순위를 1996년 이전 연례적으로 발표하는 스위스의 비영리 민간기구는 뭐야</td>\n",
       "      <td>True</td>\n",
       "      <td></td>\n",
       "      <td>NaN</td>\n",
       "    </tr>\n",
       "    <tr>\n",
       "      <th>3</th>\n",
       "      <td>CNTS_4740509086</td>\n",
       "      <td>국가 기술경쟁력 평가의 방법론과 응용</td>\n",
       "      <td>PARS_pP8k4n8yg4</td>\n",
       "      <td>IMD의 평가나 종합과학기술력 평가는 궁극적으로는 국가간 순위를 매기기 위한 평가이...</td>\n",
       "      <td>QUES_GnQIVxXt70</td>\n",
       "      <td>기술무역액 등과 같이 가용할 수 있는 통계 수치에 전적으로 의존하는 평가가 뭐야</td>\n",
       "      <td>False</td>\n",
       "      <td>종합과학기술력 평가</td>\n",
       "      <td>124.0</td>\n",
       "    </tr>\n",
       "    <tr>\n",
       "      <th>4</th>\n",
       "      <td>CNTS_4740509086</td>\n",
       "      <td>국가 기술경쟁력 평가의 방법론과 응용</td>\n",
       "      <td>PARS_7b3M3mKZbb</td>\n",
       "      <td>기업경영, 산학연 협력, 교육과 훈련, 세계화, 정부의 행정효율 그 어느 부문도 한...</td>\n",
       "      <td>QUES_RcrMURMuhd</td>\n",
       "      <td>창의력을 저해하는 인사제도 요인은 뭐야</td>\n",
       "      <td>False</td>\n",
       "      <td>연공서열제</td>\n",
       "      <td>120.0</td>\n",
       "    </tr>\n",
       "    <tr>\n",
       "      <th>...</th>\n",
       "      <td>...</td>\n",
       "      <td>...</td>\n",
       "      <td>...</td>\n",
       "      <td>...</td>\n",
       "      <td>...</td>\n",
       "      <td>...</td>\n",
       "      <td>...</td>\n",
       "      <td>...</td>\n",
       "      <td>...</td>\n",
       "    </tr>\n",
       "    <tr>\n",
       "      <th>37324</th>\n",
       "      <td>CNTS_2129305745</td>\n",
       "      <td>국역 금대전책</td>\n",
       "      <td>PARS_ma0DB2fJSk</td>\n",
       "      <td>｢천체론｣은 정조가 하늘의 작용이 민사(民事)와 관계되므로 국가의 다스림에서 천문에...</td>\n",
       "      <td>QUES_XM4RUoboD7</td>\n",
       "      <td>역상을 알지 못함을 분개하면서 이에 대한 견해를 토로하도록 하는 책문을 정조가 내놓...</td>\n",
       "      <td>False</td>\n",
       "      <td>천체론</td>\n",
       "      <td>1.0</td>\n",
       "    </tr>\n",
       "    <tr>\n",
       "      <th>37325</th>\n",
       "      <td>CNTS_2129305745</td>\n",
       "      <td>국역 금대전책</td>\n",
       "      <td>PARS_wGlvzy6QkR</td>\n",
       "      <td>｢문체론｣은 국왕 정조가 “문장은 한 시대의 체제가 있어서 세상의 도와 함께 부침한...</td>\n",
       "      <td>QUES_YsPrUyg1xE</td>\n",
       "      <td>사대부들이 정학을 기피하면서 기교에 기반한 글쓰기를 하자 문체반정을 추진한 왕은 누구야</td>\n",
       "      <td>False</td>\n",
       "      <td>정조</td>\n",
       "      <td>244.0</td>\n",
       "    </tr>\n",
       "    <tr>\n",
       "      <th>37326</th>\n",
       "      <td>CNTS_7969874543</td>\n",
       "      <td>과학기술 ODA 사업의 사례2  농업기술분야-몽골 강원도 농업타운 조성 및 운영 성...</td>\n",
       "      <td>PARS_wXIJMVVRcQ</td>\n",
       "      <td>또한 강원도농업타운의 조성 및 운영의 궁극적인 목적이 몽골 현지에서의 시범 재배 및...</td>\n",
       "      <td>QUES_Lz55ir98nY</td>\n",
       "      <td>강원도농업기술원의 육류 전문가를 2004년에 몽골에 몇 개월간 파견하였냐</td>\n",
       "      <td>True</td>\n",
       "      <td></td>\n",
       "      <td>NaN</td>\n",
       "    </tr>\n",
       "    <tr>\n",
       "      <th>37327</th>\n",
       "      <td>CNTS_7969874543</td>\n",
       "      <td>과학기술 ODA 사업의 사례2  농업기술분야-몽골 강원도 농업타운 조성 및 운영 성...</td>\n",
       "      <td>PARS_Tk1KaMM2tz</td>\n",
       "      <td>강원도의 몽골 농업기술교류사업 중 성공 모델로 각광받고 있는 강원도농업타운 조성의 ...</td>\n",
       "      <td>QUES_dklx3PbuRp</td>\n",
       "      <td>매년 몽골의 작물 재배상황이 일정해서 무엇의 확립이 어려웠지</td>\n",
       "      <td>True</td>\n",
       "      <td></td>\n",
       "      <td>NaN</td>\n",
       "    </tr>\n",
       "    <tr>\n",
       "      <th>37328</th>\n",
       "      <td>CNTS_7969874543</td>\n",
       "      <td>과학기술 ODA 사업의 사례2  농업기술분야-몽골 강원도 농업타운 조성 및 운영 성...</td>\n",
       "      <td>PARS_4PSXTjLeXS</td>\n",
       "      <td>예로부터 몽골은 목초지를 따라 방목하는 방식의 유목문화로 육식 위주의 식생활을 하였...</td>\n",
       "      <td>QUES_53EA1Edz1J</td>\n",
       "      <td>예전부터 육식을 중심으로 식생활을 이어온 나라로 유목문화의 방식을 사용한 나라가 어디야</td>\n",
       "      <td>False</td>\n",
       "      <td>몽골</td>\n",
       "      <td>5.0</td>\n",
       "    </tr>\n",
       "  </tbody>\n",
       "</table>\n",
       "<p>37329 rows × 9 columns</p>\n",
       "</div>"
      ],
      "text/plain": [
       "            content_id                                              title  \\\n",
       "0      CNTS_4740509086                               국가 기술경쟁력 평가의 방법론과 응용   \n",
       "1      CNTS_4740509086                               국가 기술경쟁력 평가의 방법론과 응용   \n",
       "2      CNTS_4740509086                               국가 기술경쟁력 평가의 방법론과 응용   \n",
       "3      CNTS_4740509086                               국가 기술경쟁력 평가의 방법론과 응용   \n",
       "4      CNTS_4740509086                               국가 기술경쟁력 평가의 방법론과 응용   \n",
       "...                ...                                                ...   \n",
       "37324  CNTS_2129305745                                            국역 금대전책   \n",
       "37325  CNTS_2129305745                                            국역 금대전책   \n",
       "37326  CNTS_7969874543  과학기술 ODA 사업의 사례2  농업기술분야-몽골 강원도 농업타운 조성 및 운영 성...   \n",
       "37327  CNTS_7969874543  과학기술 ODA 사업의 사례2  농업기술분야-몽골 강원도 농업타운 조성 및 운영 성...   \n",
       "37328  CNTS_7969874543  과학기술 ODA 사업의 사례2  농업기술분야-몽골 강원도 농업타운 조성 및 운영 성...   \n",
       "\n",
       "          paragraph_id                                            context  \\\n",
       "0      PARS_RrlDreD2hE  이 글에서는 제안한 기술경쟁력 평가 방법의 특징은 두 가지로 요약된다. 첫째, 현재...   \n",
       "1      PARS_s5sSaKdCH3  현위치와 관련된 평가부문은 IMD 평가에서나 종합과학기술력의 평가에서 도 포함된 부...   \n",
       "2      PARS_erOlnfgWx2  IMD는 스위스의 비영리 민간기구로 국가경쟁력의 순위를 1996년이래 연례적으로 발...   \n",
       "3      PARS_pP8k4n8yg4  IMD의 평가나 종합과학기술력 평가는 궁극적으로는 국가간 순위를 매기기 위한 평가이...   \n",
       "4      PARS_7b3M3mKZbb  기업경영, 산학연 협력, 교육과 훈련, 세계화, 정부의 행정효율 그 어느 부문도 한...   \n",
       "...                ...                                                ...   \n",
       "37324  PARS_ma0DB2fJSk  ｢천체론｣은 정조가 하늘의 작용이 민사(民事)와 관계되므로 국가의 다스림에서 천문에...   \n",
       "37325  PARS_wGlvzy6QkR  ｢문체론｣은 국왕 정조가 “문장은 한 시대의 체제가 있어서 세상의 도와 함께 부침한...   \n",
       "37326  PARS_wXIJMVVRcQ  또한 강원도농업타운의 조성 및 운영의 궁극적인 목적이 몽골 현지에서의 시범 재배 및...   \n",
       "37327  PARS_Tk1KaMM2tz  강원도의 몽골 농업기술교류사업 중 성공 모델로 각광받고 있는 강원도농업타운 조성의 ...   \n",
       "37328  PARS_4PSXTjLeXS  예로부터 몽골은 목초지를 따라 방목하는 방식의 유목문화로 육식 위주의 식생활을 하였...   \n",
       "\n",
       "           question_id                                           question  \\\n",
       "0      QUES_CHGHl0CHHK  경쟁 상대국을 연구하고 경쟁 상대국을 앞설 수 있는 방법을 연구하기 위해서 더욱 활...   \n",
       "1      QUES_ncJEA1ANCe               IMD평가에 포함되었던 기술관리부분의 한국의 순위는 평균 몇 위야   \n",
       "2      QUES_WwhEDEQ4JT   국가경쟁력의 순위를 1996년 이전 연례적으로 발표하는 스위스의 비영리 민간기구는 뭐야   \n",
       "3      QUES_GnQIVxXt70       기술무역액 등과 같이 가용할 수 있는 통계 수치에 전적으로 의존하는 평가가 뭐야   \n",
       "4      QUES_RcrMURMuhd                              창의력을 저해하는 인사제도 요인은 뭐야   \n",
       "...                ...                                                ...   \n",
       "37324  QUES_XM4RUoboD7  역상을 알지 못함을 분개하면서 이에 대한 견해를 토로하도록 하는 책문을 정조가 내놓...   \n",
       "37325  QUES_YsPrUyg1xE   사대부들이 정학을 기피하면서 기교에 기반한 글쓰기를 하자 문체반정을 추진한 왕은 누구야   \n",
       "37326  QUES_Lz55ir98nY           강원도농업기술원의 육류 전문가를 2004년에 몽골에 몇 개월간 파견하였냐   \n",
       "37327  QUES_dklx3PbuRp                  매년 몽골의 작물 재배상황이 일정해서 무엇의 확립이 어려웠지   \n",
       "37328  QUES_53EA1Edz1J   예전부터 육식을 중심으로 식생활을 이어온 나라로 유목문화의 방식을 사용한 나라가 어디야   \n",
       "\n",
       "       is_impossible answer_text  answer_start  \n",
       "0              False       기술경쟁력         603.0  \n",
       "1              False      평균 32위         420.0  \n",
       "2               True                       NaN  \n",
       "3              False  종합과학기술력 평가         124.0  \n",
       "4              False       연공서열제         120.0  \n",
       "...              ...         ...           ...  \n",
       "37324          False         천체론           1.0  \n",
       "37325          False          정조         244.0  \n",
       "37326           True                       NaN  \n",
       "37327           True                       NaN  \n",
       "37328          False          몽골           5.0  \n",
       "\n",
       "[37329 rows x 9 columns]"
      ]
     },
     "execution_count": 13,
     "metadata": {},
     "output_type": "execute_result"
    }
   ],
   "source": [
    "df_"
   ]
  },
  {
   "cell_type": "code",
   "execution_count": 33,
   "id": "cecd3121-1aaf-4355-8e6b-d95a9079b9be",
   "metadata": {
    "execution": {
     "iopub.execute_input": "2022-06-07T04:02:41.264064Z",
     "iopub.status.busy": "2022-06-07T04:02:41.264064Z",
     "iopub.status.idle": "2022-06-07T04:02:41.274062Z",
     "shell.execute_reply": "2022-06-07T04:02:41.274062Z",
     "shell.execute_reply.started": "2022-06-07T04:02:41.264064Z"
    },
    "tags": []
   },
   "outputs": [],
   "source": [
    "submission = pd.read_csv('sample_submission.csv')"
   ]
  },
  {
   "cell_type": "code",
   "execution_count": 30,
   "id": "57ee0035-64fb-4348-9060-559f3ee6b3c3",
   "metadata": {
    "execution": {
     "iopub.execute_input": "2022-06-07T04:01:50.976040Z",
     "iopub.status.busy": "2022-06-07T04:01:50.975041Z",
     "iopub.status.idle": "2022-06-07T04:01:50.992041Z",
     "shell.execute_reply": "2022-06-07T04:01:50.991038Z",
     "shell.execute_reply.started": "2022-06-07T04:01:50.976040Z"
    },
    "tags": []
   },
   "outputs": [
    {
     "data": {
      "text/html": [
       "<div>\n",
       "<style scoped>\n",
       "    .dataframe tbody tr th:only-of-type {\n",
       "        vertical-align: middle;\n",
       "    }\n",
       "\n",
       "    .dataframe tbody tr th {\n",
       "        vertical-align: top;\n",
       "    }\n",
       "\n",
       "    .dataframe thead th {\n",
       "        text-align: right;\n",
       "    }\n",
       "</style>\n",
       "<table border=\"1\" class=\"dataframe\">\n",
       "  <thead>\n",
       "    <tr style=\"text-align: right;\">\n",
       "      <th></th>\n",
       "      <th>content_id</th>\n",
       "      <th>title</th>\n",
       "      <th>paragraph_id</th>\n",
       "      <th>context</th>\n",
       "      <th>question_id</th>\n",
       "      <th>question</th>\n",
       "    </tr>\n",
       "  </thead>\n",
       "  <tbody>\n",
       "    <tr>\n",
       "      <th>0</th>\n",
       "      <td>CNTS_0643625675</td>\n",
       "      <td>2015년도 생활주변방사선 안전관리 실태 조사 및 분석 결과보고서</td>\n",
       "      <td>PARS_DIL8VCbM70</td>\n",
       "      <td>생활방사선법 제23조(생활주변방사선 안전관리 실태조사 및 분석) 제1항에 따른 안전...</td>\n",
       "      <td>QUES_cyOI2451l1</td>\n",
       "      <td>어디서 모나자이트 취급사업장을 생활주변방사선 실태조사 대상으로 뽑았어</td>\n",
       "    </tr>\n",
       "  </tbody>\n",
       "</table>\n",
       "</div>"
      ],
      "text/plain": [
       "        content_id                                 title     paragraph_id  \\\n",
       "0  CNTS_0643625675  2015년도 생활주변방사선 안전관리 실태 조사 및 분석 결과보고서  PARS_DIL8VCbM70   \n",
       "\n",
       "                                             context      question_id  \\\n",
       "0  생활방사선법 제23조(생활주변방사선 안전관리 실태조사 및 분석) 제1항에 따른 안전...  QUES_cyOI2451l1   \n",
       "\n",
       "                                 question  \n",
       "0  어디서 모나자이트 취급사업장을 생활주변방사선 실태조사 대상으로 뽑았어  "
      ]
     },
     "execution_count": 30,
     "metadata": {},
     "output_type": "execute_result"
    }
   ],
   "source": [
    "test[test['question_id'] == 'QUES_cyOI2451l1']"
   ]
  },
  {
   "cell_type": "code",
   "execution_count": 35,
   "id": "5ff2a05f-c30f-46b4-8f6c-af4c6d291e33",
   "metadata": {
    "execution": {
     "iopub.execute_input": "2022-06-07T04:02:59.915623Z",
     "iopub.status.busy": "2022-06-07T04:02:59.915623Z",
     "iopub.status.idle": "2022-06-07T04:02:59.930621Z",
     "shell.execute_reply": "2022-06-07T04:02:59.929621Z",
     "shell.execute_reply.started": "2022-06-07T04:02:59.915623Z"
    },
    "tags": []
   },
   "outputs": [
    {
     "data": {
      "text/plain": [
       "True"
      ]
     },
     "execution_count": 35,
     "metadata": {},
     "output_type": "execute_result"
    }
   ],
   "source": [
    "(test['question_id'] == submission['question_id']).any()"
   ]
  },
  {
   "cell_type": "code",
   "execution_count": null,
   "id": "e538d849-a523-4ee4-8030-4eb3a1d184c4",
   "metadata": {},
   "outputs": [],
   "source": []
  }
 ],
 "metadata": {
  "kernelspec": {
   "display_name": "Python 3 (ipykernel)",
   "language": "python",
   "name": "python3"
  },
  "language_info": {
   "codemirror_mode": {
    "name": "ipython",
    "version": 3
   },
   "file_extension": ".py",
   "mimetype": "text/x-python",
   "name": "python",
   "nbconvert_exporter": "python",
   "pygments_lexer": "ipython3",
   "version": "3.8.13"
  }
 },
 "nbformat": 4,
 "nbformat_minor": 5
}
